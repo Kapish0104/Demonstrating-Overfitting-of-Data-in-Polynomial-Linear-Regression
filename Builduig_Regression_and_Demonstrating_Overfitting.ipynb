{
  "nbformat": 4,
  "nbformat_minor": 0,
  "metadata": {
    "colab": {
      "name": "Builduig_Regression_and_Demonstrating_Overfitting.ipynb",
      "provenance": [],
      "collapsed_sections": [],
      "toc_visible": true
    },
    "kernelspec": {
      "name": "python3",
      "display_name": "Python 3"
    },
    "language_info": {
      "name": "python"
    }
  },
  "cells": [
    {
      "cell_type": "markdown",
      "metadata": {
        "id": "vnsPkcAf4HIu"
      },
      "source": [
        "***IMPORTING LIBRARIES***"
      ]
    },
    {
      "cell_type": "code",
      "metadata": {
        "id": "7EIQ0XPt4OdK"
      },
      "source": [
        "import matplotlib.pyplot as plt\n",
        "import numpy as np\n",
        "import math"
      ],
      "execution_count": null,
      "outputs": []
    },
    {
      "cell_type": "markdown",
      "metadata": {
        "id": "dg-uk4LQ4To7"
      },
      "source": [
        "***CREATING A POLYNOMIAL REGRESSION MODEL WITH GRADIENT DESCENT***"
      ]
    },
    {
      "cell_type": "code",
      "metadata": {
        "id": "z_QxWK_j4S7_"
      },
      "source": [
        "class my_poly_reg():\n",
        "  def __init__(self, X, Y, order = 1, epochs = 10,learning_rate=0.01):\n",
        "\n",
        "    #Initializing the variables\n",
        "    #X: The x values to train a model\n",
        "    #Y: The Y values to train a model\n",
        "    #order: Order of the regression model\n",
        "    #epochs: the number of iterations for gradient descent\n",
        "    #learn_rate = the learning rate of our model to update weights of gradient descent\n",
        "\n",
        "    self.X = X\n",
        "    self.Y = Y\n",
        "    self.order = order\n",
        "    self.epochs = epochs\n",
        "    self.weights = []*(order+1)\n",
        "    self.all_y_predicted = []\n",
        "    self.learning_rate = learning_rate\n",
        "  \n",
        "  #Function to initialize weights and assign then random values\n",
        "  def initializeWeights(self):\n",
        "    self.weights = np.random.rand(self.order+1)\n",
        "\n",
        "  #Function to get a predicted value of Y for a value of X \n",
        "  def get_predicted_y(self, x):\n",
        "    predicted_y =0\n",
        "    for j in range(self.order+1):\n",
        "      predicted_y += (self.weights[j] * pow(x,j))\n",
        "    return predicted_y\n",
        "  \n",
        "  #Function to get the mean squared error of the model with current weights\n",
        "  def getMSE(self):\n",
        "    error =0\n",
        "    for i in range(self.order+1):\n",
        "      predicted_y = self.get_predicted_y(x=self.X[i])\n",
        "      self.all_y_predicted.append(predicted_y)\n",
        "      error_curr = pow((self.Y[i] - predicted_y),2)\n",
        "      error += error_curr\n",
        "    return (error/(self.order+1))\n",
        "\n",
        "  #Function to perform gradient descent and update weights\n",
        "  def gradientDescent(self):\n",
        "    no_of_weights = len(self.weights)\n",
        "    intermediate = [[] for i in range(no_of_weights)]\n",
        "    gradients =[]*no_of_weights\n",
        "    \n",
        "    for x,y_real,y_pred in zip(self.X, self.Y, self.all_y_predicted): \n",
        "      for power in range(no_of_weights):\n",
        "        step = pow(x,power) * (y_real - y_pred)\n",
        "        intermediate[power].append(step)\n",
        "\n",
        "    for i in range(no_of_weights):\n",
        "      gradients.append((-2 / no_of_weights) * sum(intermediate[i]))\n",
        "    return gradients\n",
        "\n",
        "  #This function updates weights once gradients are updated\n",
        "  def update_weights(self, gradients):\n",
        "    for i in range(len(self.weights)):\n",
        "      self.weights[i] = self.weights[i] - self.learning_rate*gradients[i]\n",
        "  \n",
        "  #Perform an iteration to update gradient and weights\n",
        "  def perform_epoch(self):\n",
        "    gradients = self.gradientDescent()\n",
        "    self.update_weights(gradients=gradients)\n",
        "\n",
        "  #this function performs the training of our model\n",
        "  def fit(self):\n",
        "    self.initializeWeights()\n",
        "    print(\"Initial Weights:\",self.weights)\n",
        "    final_weights = []\n",
        "    least_mse = 1000.00\n",
        "    for i in range(self.epochs):\n",
        "      self.all_y_predicted =[]\n",
        "      mse = self.getMSE()\n",
        "      #print(\"iteration:\",i+1,\"\\terror:\", mse)\n",
        "      self.perform_epoch()\n",
        "      if mse < least_mse:\n",
        "        least_mse = mse\n",
        "        final_weights = self.weights\n",
        "    print(\"Least error:\",least_mse)\n",
        "    self.weights = final_weights\n",
        "    print(\"Final weights:\",self.weights)\n",
        "    return self.weights,least_mse"
      ],
      "execution_count": null,
      "outputs": []
    },
    {
      "cell_type": "markdown",
      "metadata": {
        "id": "dHybyzpXNzep"
      },
      "source": [
        ""
      ]
    },
    {
      "cell_type": "markdown",
      "metadata": {
        "id": "5rj1OYHTa8KG"
      },
      "source": [
        "***Function to generate n pairs of X and Y***"
      ]
    },
    {
      "cell_type": "code",
      "metadata": {
        "id": "WjilxgTSbCSz"
      },
      "source": [
        "def genXY(n):\n",
        "  X = np.random.uniform(low=0.0 , high= 1.0, size=n) #Generating n values of X between 0 and 1\n",
        "\n",
        "  N = np.random.normal(size = n) #Generating n values of N from the gaussian Distribution\n",
        "\n",
        "  #Using [y = sin(2.pi.x) + 0.1.N] to generate y \n",
        "  y =[]\n",
        "  for i in range(n):\n",
        "    y.append(math.sin(2 * np.pi * X[i]) + (0.1 * N[i]))\n",
        "  \n",
        "  return X,y"
      ],
      "execution_count": null,
      "outputs": []
    },
    {
      "cell_type": "markdown",
      "metadata": {
        "id": "UuPxTOsRdhKu"
      },
      "source": [
        "***GENERATING 20 PAIRS OF X AND Y***\n"
      ]
    },
    {
      "cell_type": "code",
      "metadata": {
        "id": "hUSGP5mxatJs",
        "colab": {
          "base_uri": "https://localhost:8080/"
        },
        "outputId": "4b2d121e-44ed-49a4-81cc-1e672874d74b"
      },
      "source": [
        "X,y = genXY(20)\n",
        "\n",
        "print(\"X:\\n\",X)\n",
        "print(\"Y:\\n\",y)"
      ],
      "execution_count": null,
      "outputs": [
        {
          "output_type": "stream",
          "name": "stdout",
          "text": [
            "X:\n",
            " [0.42925954 0.04199974 0.32017656 0.1025467  0.98045831 0.42896136\n",
            " 0.25453163 0.8245781  0.89979248 0.95240468 0.02088677 0.96498192\n",
            " 0.5390733  0.72807362 0.91167957 0.47578949 0.37206178 0.03869638\n",
            " 0.97998752 0.45386165]\n",
            "Y:\n",
            " [0.40793416799355264, 0.0965169602586925, 0.8352178661754194, 0.4921400077360729, -0.08199646715700815, 0.506877915392716, 0.9450766409072217, -0.9209014765529042, -0.5113058351203097, -0.23862953950241036, 0.16102270016477507, -0.00795585042927599, -0.3289570206672211, -1.2150329704943514, -0.4732820648533019, 0.014618697679765036, 0.7936311047254876, 0.2965179506310417, -0.11508352142880766, 0.31810986935652313]\n"
          ]
        }
      ]
    },
    {
      "cell_type": "markdown",
      "metadata": {
        "id": "Izjyc2kzcP0z"
      },
      "source": [
        "***Plotting X and Y on the graph***"
      ]
    },
    {
      "cell_type": "code",
      "metadata": {
        "colab": {
          "base_uri": "https://localhost:8080/",
          "height": 283
        },
        "id": "RiQB_cXscWrz",
        "outputId": "11528caf-dd4c-496c-b784-fe72afbb2676"
      },
      "source": [
        "  plt.scatter(X,y)\n",
        "  plt.plot()"
      ],
      "execution_count": null,
      "outputs": [
        {
          "output_type": "execute_result",
          "data": {
            "text/plain": [
              "[]"
            ]
          },
          "metadata": {},
          "execution_count": 1038
        },
        {
          "output_type": "display_data",
          "data": {
            "image/png": "[encoded data removed]",
            "text/plain": [
              "<Figure size 432x288 with 1 Axes>"
            ]
          },
          "metadata": {
            "needs_background": "light"
          }
        }
      ]
    },
    {
      "cell_type": "markdown",
      "metadata": {
        "id": "tJbcBt0UgWxz"
      },
      "source": [
        "***Splitting the data for training and testing***"
      ]
    },
    {
      "cell_type": "code",
      "metadata": {
        "id": "D_9AOMoEgfWk"
      },
      "source": [
        "train_X = X[0:10]\n",
        "train_y = y[0:10]\n",
        "\n",
        "test_X = X[10:20]\n",
        "test_y = y[10:20]"
      ],
      "execution_count": null,
      "outputs": []
    },
    {
      "cell_type": "markdown",
      "metadata": {
        "id": "62sI9vNTjkeT"
      },
      "source": [
        "***Print training and testing Data***"
      ]
    },
    {
      "cell_type": "code",
      "metadata": {
        "colab": {
          "base_uri": "https://localhost:8080/"
        },
        "id": "xl3MQozphc-j",
        "outputId": "c399e106-00b7-4c72-988e-e0366305da77"
      },
      "source": [
        "print(\"Training data\")\n",
        "print(\"X:\" , train_X)\n",
        "print(\"Y:\" , train_y)\n",
        "print(\"Testing data\")\n",
        "print(\"X:\" , test_X)\n",
        "print(\"Y:\" , test_y)"
      ],
      "execution_count": null,
      "outputs": [
        {
          "output_type": "stream",
          "name": "stdout",
          "text": [
            "Training data\n",
            "X: [0.42925954 0.04199974 0.32017656 0.1025467  0.98045831 0.42896136\n",
            " 0.25453163 0.8245781  0.89979248 0.95240468]\n",
            "Y: [0.40793416799355264, 0.0965169602586925, 0.8352178661754194, 0.4921400077360729, -0.08199646715700815, 0.506877915392716, 0.9450766409072217, -0.9209014765529042, -0.5113058351203097, -0.23862953950241036]\n",
            "Testing data\n",
            "X: [0.02088677 0.96498192 0.5390733  0.72807362 0.91167957 0.47578949\n",
            " 0.37206178 0.03869638 0.97998752 0.45386165]\n",
            "Y: [0.16102270016477507, -0.00795585042927599, -0.3289570206672211, -1.2150329704943514, -0.4732820648533019, 0.014618697679765036, 0.7936311047254876, 0.2965179506310417, -0.11508352142880766, 0.31810986935652313]\n"
          ]
        }
      ]
    },
    {
      "cell_type": "markdown",
      "metadata": {
        "id": "8a_soaqyO1I7"
      },
      "source": [
        "***TRAINING THE MODEL WITH OUR TRAINING DATA SET AND FINDING VALUES FOR Y***"
      ]
    },
    {
      "cell_type": "code",
      "metadata": {
        "id": "8bYl4eNs0hvL"
      },
      "source": [
        "errors_train=[] #list to store errors generated\n",
        "iterations =50000"
      ],
      "execution_count": null,
      "outputs": []
    },
    {
      "cell_type": "markdown",
      "metadata": {
        "id": "1bHo7pBePmf8"
      },
      "source": [
        "***For order 0***"
      ]
    },
    {
      "cell_type": "code",
      "metadata": {
        "id": "n3p3P1eeO6mT"
      },
      "source": [
        "my_poly_regressor1 = my_poly_reg(X=train_X, Y=train_y, order=0, epochs=iterations)"
      ],
      "execution_count": null,
      "outputs": []
    },
    {
      "cell_type": "code",
      "metadata": {
        "colab": {
          "base_uri": "https://localhost:8080/"
        },
        "id": "U9-Xy30gPrRS",
        "outputId": "a75a2e6f-c2ae-477e-c547-751776c62c89"
      },
      "source": [
        "weights_zero,min_error = my_poly_regressor1.fit()\n",
        "errors_train.append(min_error)"
      ],
      "execution_count": null,
      "outputs": [
        {
          "output_type": "stream",
          "name": "stdout",
          "text": [
            "Initial Weights: [0.91357107]\n",
            "Least error: 1.7749370367472766e-30\n",
            "Final weights: [0.40793417]\n"
          ]
        }
      ]
    },
    {
      "cell_type": "markdown",
      "metadata": {
        "id": "6se13AmseI_o"
      },
      "source": [
        "getting values of Y for train X"
      ]
    },
    {
      "cell_type": "code",
      "metadata": {
        "id": "oSkWAnPseIOu"
      },
      "source": [
        "y_zero_order =[]\n",
        "for i in range(len(train_X)):\n",
        "  y_zero_order.append(my_poly_regressor1.get_predicted_y(x=train_X[i]))"
      ],
      "execution_count": null,
      "outputs": []
    },
    {
      "cell_type": "markdown",
      "metadata": {
        "id": "5zMJVZpTQGXV"
      },
      "source": [
        "***For order 1***"
      ]
    },
    {
      "cell_type": "code",
      "metadata": {
        "id": "uMcy2w_zQFoy"
      },
      "source": [
        "my_poly_regressor2 = my_poly_reg(X=train_X, Y=train_y, order=1, epochs=iterations)"
      ],
      "execution_count": null,
      "outputs": []
    },
    {
      "cell_type": "code",
      "metadata": {
        "colab": {
          "base_uri": "https://localhost:8080/"
        },
        "id": "KR8ParA6QOhU",
        "outputId": "a2e863e4-bce2-41cd-d59d-3ca12541606e"
      },
      "source": [
        "weights_one,min_error = my_poly_regressor2.fit()\n",
        "errors_train.append(min_error)"
      ],
      "execution_count": null,
      "outputs": [
        {
          "output_type": "stream",
          "name": "stdout",
          "text": [
            "Initial Weights: [0.90515413 0.60891628]\n",
            "Least error: 2.1612978428908e-28\n",
            "Final weights: [0.06274262 0.80415579]\n"
          ]
        }
      ]
    },
    {
      "cell_type": "markdown",
      "metadata": {
        "id": "x7zLrRcmmfMG"
      },
      "source": [
        "Getting values of Y"
      ]
    },
    {
      "cell_type": "code",
      "metadata": {
        "id": "QBlSlFIxQYqA"
      },
      "source": [
        "y_first_order =[]\n",
        "for i in range(len(train_X)):\n",
        "  y_first_order.append(my_poly_regressor2.get_predicted_y(x=train_X[i]))"
      ],
      "execution_count": null,
      "outputs": []
    },
    {
      "cell_type": "markdown",
      "metadata": {
        "id": "tZaHcii-1fvP"
      },
      "source": [
        "***For order 2***"
      ]
    },
    {
      "cell_type": "code",
      "metadata": {
        "id": "DfiMjwpW1fvQ"
      },
      "source": [
        "my_poly_regressor20 = my_poly_reg(X=train_X, Y=train_y, order=2, epochs=iterations)"
      ],
      "execution_count": null,
      "outputs": []
    },
    {
      "cell_type": "code",
      "metadata": {
        "colab": {
          "base_uri": "https://localhost:8080/"
        },
        "id": "SITP_7Zf1fvQ",
        "outputId": "23da57ce-6f32-4f97-c6a9-e5ca998b6fc4"
      },
      "source": [
        "weights_two,min_error = my_poly_regressor20.fit()\n",
        "errors_train.append(min_error)"
      ],
      "execution_count": null,
      "outputs": [
        {
          "output_type": "stream",
          "name": "stdout",
          "text": [
            "Initial Weights: [0.06015762 0.0398134  0.98923168]\n",
            "Least error: 0.04632961440848815\n",
            "Final weights: [ 0.11684842  1.78305748 -1.46211321]\n"
          ]
        }
      ]
    },
    {
      "cell_type": "markdown",
      "metadata": {
        "id": "uEZKZOcgQZQh"
      },
      "source": [
        "***For order 3***"
      ]
    },
    {
      "cell_type": "code",
      "metadata": {
        "id": "ePw5ZM1NQZQl"
      },
      "source": [
        "my_poly_regressor3 = my_poly_reg(X=train_X, Y=train_y, order=3, epochs=iterations)"
      ],
      "execution_count": null,
      "outputs": []
    },
    {
      "cell_type": "code",
      "metadata": {
        "colab": {
          "base_uri": "https://localhost:8080/"
        },
        "id": "_-zwjm6uQZQn",
        "outputId": "9b4e54c0-e1c5-453c-ad05-087df0bb2944"
      },
      "source": [
        "weights_three,min_error = my_poly_regressor3.fit()\n",
        "errors_train.append(min_error)"
      ],
      "execution_count": null,
      "outputs": [
        {
          "output_type": "stream",
          "name": "stdout",
          "text": [
            "Initial Weights: [0.73453093 0.85060598 0.18571492 0.52761103]\n",
            "Least error: 0.03452200943194949\n",
            "Final weights: [ 0.19504601  1.9904015  -1.96526539 -1.2355934 ]\n"
          ]
        }
      ]
    },
    {
      "cell_type": "code",
      "metadata": {
        "id": "82WaDON3eYAc"
      },
      "source": [
        "y_third_order =[]\n",
        "for i in range(len(train_X)):\n",
        "  y_third_order.append(my_poly_regressor3.get_predicted_y(x=train_X[i]))"
      ],
      "execution_count": null,
      "outputs": []
    },
    {
      "cell_type": "markdown",
      "metadata": {
        "id": "5ifRtTqG1sZE"
      },
      "source": [
        "***For order 4***"
      ]
    },
    {
      "cell_type": "code",
      "metadata": {
        "id": "lEhgffFf1sZF"
      },
      "source": [
        "my_poly_regressor40 = my_poly_reg(X=train_X, Y=train_y, order=4, epochs=iterations)"
      ],
      "execution_count": null,
      "outputs": []
    },
    {
      "cell_type": "code",
      "metadata": {
        "colab": {
          "base_uri": "https://localhost:8080/"
        },
        "id": "rGjhM6JP1sZG",
        "outputId": "b0257b3c-1903-4c2a-ada2-3139ffd4b679"
      },
      "source": [
        "weights_four,min_error = my_poly_regressor40.fit()\n",
        "errors_train.append(min_error)"
      ],
      "execution_count": null,
      "outputs": [
        {
          "output_type": "stream",
          "name": "stdout",
          "text": [
            "Initial Weights: [0.42789408 0.92324568 0.38457679 0.1825691  0.58415416]\n",
            "Least error: 0.031833001072717665\n",
            "Final weights: [ 0.20408294  1.65581506 -1.18696919 -0.93723948  0.11472434]\n"
          ]
        }
      ]
    },
    {
      "cell_type": "markdown",
      "metadata": {
        "id": "kKLBS7xB2AIS"
      },
      "source": [
        "***For order 5***"
      ]
    },
    {
      "cell_type": "code",
      "metadata": {
        "id": "Iy4Yu7Xb2AIT"
      },
      "source": [
        "my_poly_regressor50 = my_poly_reg(X=train_X, Y=train_y, order=5, epochs=iterations)"
      ],
      "execution_count": null,
      "outputs": []
    },
    {
      "cell_type": "code",
      "metadata": {
        "colab": {
          "base_uri": "https://localhost:8080/"
        },
        "id": "93OY_GbC2AIT",
        "outputId": "707c4a09-db72-4339-c645-4439455851be"
      },
      "source": [
        "weights_five,min_error = my_poly_regressor2.fit()\n",
        "errors_train.append(min_error)"
      ],
      "execution_count": null,
      "outputs": [
        {
          "output_type": "stream",
          "name": "stdout",
          "text": [
            "Initial Weights: [0.0870984  0.67926874]\n",
            "Least error: 2.1612978428908e-28\n",
            "Final weights: [0.06274262 0.80415579]\n"
          ]
        }
      ]
    },
    {
      "cell_type": "code",
      "metadata": {
        "id": "Ltw6yBnp2V_x"
      },
      "source": [
        ""
      ],
      "execution_count": null,
      "outputs": []
    },
    {
      "cell_type": "markdown",
      "metadata": {
        "id": "FiU2dTiM2XUI"
      },
      "source": [
        "***For order 6***"
      ]
    },
    {
      "cell_type": "code",
      "metadata": {
        "id": "dm9MTlS62XUK"
      },
      "source": [
        "my_poly_regressor60 = my_poly_reg(X=train_X, Y=train_y, order=6, epochs=iterations)"
      ],
      "execution_count": null,
      "outputs": []
    },
    {
      "cell_type": "code",
      "metadata": {
        "colab": {
          "base_uri": "https://localhost:8080/"
        },
        "id": "sJ_k-GjK2XUL",
        "outputId": "87ca7d68-6c45-4d5b-9b39-c985db06999b"
      },
      "source": [
        "weights_six,min_error = my_poly_regressor2.fit()\n",
        "errors_train.append(min_error)"
      ],
      "execution_count": null,
      "outputs": [
        {
          "output_type": "stream",
          "name": "stdout",
          "text": [
            "Initial Weights: [0.98637439 0.79405081]\n",
            "Least error: 2.1612978428908e-28\n",
            "Final weights: [0.06274262 0.80415579]\n"
          ]
        }
      ]
    },
    {
      "cell_type": "code",
      "metadata": {
        "id": "EyjfARF019M5"
      },
      "source": [
        ""
      ],
      "execution_count": null,
      "outputs": []
    },
    {
      "cell_type": "markdown",
      "metadata": {
        "id": "zwO-h6Ay2m3K"
      },
      "source": [
        "***For order 7***"
      ]
    },
    {
      "cell_type": "code",
      "metadata": {
        "id": "11tiTNva2m3L"
      },
      "source": [
        "my_poly_regressor70 = my_poly_reg(X=train_X, Y=train_y, order=7, epochs=iterations)"
      ],
      "execution_count": null,
      "outputs": []
    },
    {
      "cell_type": "code",
      "metadata": {
        "colab": {
          "base_uri": "https://localhost:8080/"
        },
        "id": "tHE0bBPN2m3L",
        "outputId": "9a027a28-a512-4435-a6ee-5fecb04dfa40"
      },
      "source": [
        "weights_seven,min_error = my_poly_regressor2.fit()\n",
        "errors_train.append(min_error)"
      ],
      "execution_count": null,
      "outputs": [
        {
          "output_type": "stream",
          "name": "stdout",
          "text": [
            "Initial Weights: [0.85736853 0.34409504]\n",
            "Least error: 2.1612978428908e-28\n",
            "Final weights: [0.06274262 0.80415579]\n"
          ]
        }
      ]
    },
    {
      "cell_type": "code",
      "metadata": {
        "id": "rL23Ea1f20WB"
      },
      "source": [
        ""
      ],
      "execution_count": null,
      "outputs": []
    },
    {
      "cell_type": "markdown",
      "metadata": {
        "id": "pSxfz-UA21mR"
      },
      "source": [
        "***For order 8***"
      ]
    },
    {
      "cell_type": "code",
      "metadata": {
        "id": "74SxH0BC21mT"
      },
      "source": [
        "my_poly_regressor80 = my_poly_reg(X=train_X, Y=train_y, order=8, epochs=iterations)"
      ],
      "execution_count": null,
      "outputs": []
    },
    {
      "cell_type": "code",
      "metadata": {
        "colab": {
          "base_uri": "https://localhost:8080/"
        },
        "id": "izEXU_6y21mT",
        "outputId": "66bfc134-6727-4fd3-afb6-3e33179edb2c"
      },
      "source": [
        "weights_eight,min_error = my_poly_regressor2.fit()\n",
        "errors_train.append(min_error)"
      ],
      "execution_count": null,
      "outputs": [
        {
          "output_type": "stream",
          "name": "stdout",
          "text": [
            "Initial Weights: [0.04112305 0.85814775]\n",
            "Least error: 2.1612978428908e-28\n",
            "Final weights: [0.06274262 0.80415579]\n"
          ]
        }
      ]
    },
    {
      "cell_type": "markdown",
      "metadata": {
        "id": "8IelA_zLQohX"
      },
      "source": [
        "***For order 9***"
      ]
    },
    {
      "cell_type": "code",
      "metadata": {
        "id": "-nkgSrlrQohb"
      },
      "source": [
        "my_poly_regressor4 = my_poly_reg(X=train_X, Y=train_y, order=9, epochs=iterations)"
      ],
      "execution_count": null,
      "outputs": []
    },
    {
      "cell_type": "code",
      "metadata": {
        "colab": {
          "base_uri": "https://localhost:8080/"
        },
        "id": "3Zfm7qXYQohf",
        "outputId": "5247abbb-7669-4863-b46d-36eb26faa21d"
      },
      "source": [
        "weights_nine,min_error = my_poly_regressor4.fit()\n",
        "errors_train.append(min_error)"
      ],
      "execution_count": null,
      "outputs": [
        {
          "output_type": "stream",
          "name": "stdout",
          "text": [
            "Initial Weights: [0.5003829  0.56969893 0.10253194 0.02538758 0.01083141 0.98703239\n",
            " 0.40955811 0.78000195 0.91847299 0.87070473]\n",
            "Least error: 0.02828748957616853\n",
            "Final weights: [ 0.21592232  2.5836329  -2.5181283  -2.77070401 -1.87158096  0.04068863\n",
            "  0.20164927  1.10601081  1.60904216  1.7930878 ]\n"
          ]
        }
      ]
    },
    {
      "cell_type": "code",
      "metadata": {
        "id": "yMD-XGEKd4Fc"
      },
      "source": [
        "y_ninth_order =[]\n",
        "for i in range(len(train_X)):\n",
        "  y_ninth_order.append(my_poly_regressor4.get_predicted_y(x=train_X[i]))"
      ],
      "execution_count": null,
      "outputs": []
    },
    {
      "cell_type": "markdown",
      "metadata": {
        "id": "kS8WpcBysBrk"
      },
      "source": [
        "***Dispaying Generated Weights in Table***"
      ]
    },
    {
      "cell_type": "code",
      "metadata": {
        "colab": {
          "base_uri": "https://localhost:8080/"
        },
        "id": "N8fyaDrEsGED",
        "outputId": "40ca3064-e25a-4f6b-cb6a-f84d4c692891"
      },
      "source": [
        "from tabulate import tabulate\n",
        "weights_zero = weights_zero.tolist()\n",
        "weights_zero.insert(0,\"M=0\")\n",
        "  \n",
        "weights_one = weights_one.tolist()\n",
        "weights_one.insert(0,\"M=1\")\n",
        "\n",
        "weights_three = weights_three.tolist()\n",
        "weights_three.insert(0,\"M=3\")\n",
        "\n",
        "weights_nine = weights_nine.tolist()\n",
        "weights_nine.insert(0,\"M=9\")\n",
        "# assign data\n",
        "mydata = [ weights_zero, \n",
        "          weights_one,\n",
        "          weights_three, \n",
        "          weights_nine]\n",
        "  \n",
        "# create header\n",
        "head = [\"ORDER\", \"w0\",\"w1\",\"w2\",\"w3\",\"w4\",\"w5\",\"w6\",\"w7\",\"w8\",\"w9\"]\n",
        "  \n",
        "# display table\n",
        "print(tabulate(mydata, headers=head, tablefmt=\"grid\"))"
      ],
      "execution_count": null,
      "outputs": [
        {
          "output_type": "stream",
          "name": "stdout",
          "text": [
            "+---------+-----------+----------+----------+----------+----------+-----------+----------+---------+---------+---------+\n",
            "| ORDER   |        w0 |       w1 |       w2 |       w3 |       w4 |        w5 |       w6 |      w7 |      w8 |      w9 |\n",
            "+=========+===========+==========+==========+==========+==========+===========+==========+=========+=========+=========+\n",
            "| M=0     | 0.407934  |          |          |          |          |           |          |         |         |         |\n",
            "+---------+-----------+----------+----------+----------+----------+-----------+----------+---------+---------+---------+\n",
            "| M=1     | 0.0627426 | 0.804156 |          |          |          |           |          |         |         |         |\n",
            "+---------+-----------+----------+----------+----------+----------+-----------+----------+---------+---------+---------+\n",
            "| M=3     | 0.195046  | 1.9904   | -1.96527 | -1.23559 |          |           |          |         |         |         |\n",
            "+---------+-----------+----------+----------+----------+----------+-----------+----------+---------+---------+---------+\n",
            "| M=9     | 0.215922  | 2.58363  | -2.51813 | -2.7707  | -1.87158 | 0.0406886 | 0.201649 | 1.10601 | 1.60904 | 1.79309 |\n",
            "+---------+-----------+----------+----------+----------+----------+-----------+----------+---------+---------+---------+\n"
          ]
        }
      ]
    },
    {
      "cell_type": "markdown",
      "metadata": {
        "id": "5vlDXEVERh-g"
      },
      "source": [
        "***GENERATING GRAPHS FOR TRAINING DATA***"
      ]
    },
    {
      "cell_type": "markdown",
      "metadata": {
        "id": "xuzQGe36fMZU"
      },
      "source": [
        "***graph for order 0***"
      ]
    },
    {
      "cell_type": "code",
      "metadata": {
        "colab": {
          "base_uri": "https://localhost:8080/",
          "height": 298
        },
        "id": "gf3oWTplSNjj",
        "outputId": "cf261a0e-27f8-4200-fbea-a728fd7ff536"
      },
      "source": [
        "plt.scatter(train_X,y_zero_order,label=\"Predicted Values\")\n",
        "plt.scatter(train_X,train_y,label = \"Real Values\")\n",
        "plt.legend(loc='upper center', bbox_to_anchor=(0.5, -0.05),\n",
        "          fancybox=True, shadow=True, ncol=5)\n",
        "plt.title(\"M=0\")\n",
        "plt.xlabel(\"X\")\n",
        "plt.ylabel(\"t\")\n",
        "plt.plot()\n",
        "plt.show()"
      ],
      "execution_count": null,
      "outputs": [
        {
          "output_type": "display_data",
          "data": {
            "image/png": "[encoded data removed]",
            "text/plain": [
              "<Figure size 432x288 with 1 Axes>"
            ]
          },
          "metadata": {
            "needs_background": "light"
          }
        }
      ]
    },
    {
      "cell_type": "markdown",
      "metadata": {
        "id": "C7XDwS1xSjXu"
      },
      "source": [
        "Graph of order 1"
      ]
    },
    {
      "cell_type": "code",
      "metadata": {
        "colab": {
          "base_uri": "https://localhost:8080/",
          "height": 316
        },
        "id": "xzXSRI3bSYsn",
        "outputId": "2e9849ec-7d7b-4bf1-8d3c-f7dcf4d656d3"
      },
      "source": [
        "plt.scatter(train_X,y_first_order,label=\"Predicted Values\")\n",
        "plt.scatter(train_X,train_y,label = \"Real Values\")\n",
        "plt.legend(loc='upper center', bbox_to_anchor=(0.5, -0.05),\n",
        "          fancybox=True, shadow=True, ncol=5)\n",
        "plt.title(\"M=1\")\n",
        "plt.xlabel(\"X\")\n",
        "plt.ylabel(\"t\")\n",
        "plt.plot()"
      ],
      "execution_count": null,
      "outputs": [
        {
          "output_type": "execute_result",
          "data": {
            "text/plain": [
              "[]"
            ]
          },
          "metadata": {},
          "execution_count": 1068
        },
        {
          "output_type": "display_data",
          "data": {
            "image/png": "[encoded data removed]",
            "text/plain": [
              "<Figure size 432x288 with 1 Axes>"
            ]
          },
          "metadata": {
            "needs_background": "light"
          }
        }
      ]
    },
    {
      "cell_type": "markdown",
      "metadata": {
        "id": "2dQihmwlTFEO"
      },
      "source": [
        "Graph of order 3"
      ]
    },
    {
      "cell_type": "code",
      "metadata": {
        "colab": {
          "base_uri": "https://localhost:8080/",
          "height": 316
        },
        "id": "AQgFDHxuTFEV",
        "outputId": "f32d9e78-3c8a-463f-fccf-27a2536558dd"
      },
      "source": [
        "plt.scatter(train_X,y_third_order,label=\"Predicted Values\")\n",
        "plt.scatter(train_X,train_y,label = \"Real Values\")\n",
        "plt.legend(loc='upper center', bbox_to_anchor=(0.5, -0.05),\n",
        "          fancybox=True, shadow=True, ncol=5)\n",
        "plt.title(\"M=3\")\n",
        "plt.xlabel(\"X\")\n",
        "plt.ylabel(\"t\")\n",
        "plt.plot()"
      ],
      "execution_count": null,
      "outputs": [
        {
          "output_type": "execute_result",
          "data": {
            "text/plain": [
              "[]"
            ]
          },
          "metadata": {},
          "execution_count": 1069
        },
        {
          "output_type": "display_data",
          "data": {
            "image/png": "[encoded data removed]",
            "text/plain": [
              "<Figure size 432x288 with 1 Axes>"
            ]
          },
          "metadata": {
            "needs_background": "light"
          }
        }
      ]
    },
    {
      "cell_type": "markdown",
      "metadata": {
        "id": "83VlgRcSTngr"
      },
      "source": [
        "Graph of order 9"
      ]
    },
    {
      "cell_type": "code",
      "metadata": {
        "colab": {
          "base_uri": "https://localhost:8080/",
          "height": 316
        },
        "id": "CeLet5a-Tngu",
        "outputId": "06a8ad10-f1b1-4be4-d6ca-dc9ca60cea0e"
      },
      "source": [
        "\n",
        "plt.scatter(train_X,y_ninth_order,label=\"Predicted Values\")\n",
        "plt.scatter(train_X,train_y,label = \"Real Values\")\n",
        "plt.legend(loc='upper center', bbox_to_anchor=(0.5, -0.05),\n",
        "          fancybox=True, shadow=True, ncol=5)\n",
        "plt.title(\"M=9\")\n",
        "plt.xlabel(\"X\")\n",
        "plt.ylabel(\"t\")\n",
        "plt.plot()\n"
      ],
      "execution_count": null,
      "outputs": [
        {
          "output_type": "execute_result",
          "data": {
            "text/plain": [
              "[]"
            ]
          },
          "metadata": {},
          "execution_count": 1070
        },
        {
          "output_type": "display_data",
          "data": {
            "image/png": "[encoded data removed]",
            "text/plain": [
              "<Figure size 432x288 with 1 Axes>"
            ]
          },
          "metadata": {
            "needs_background": "light"
          }
        }
      ]
    },
    {
      "cell_type": "markdown",
      "metadata": {
        "id": "BnDU5G1Ar1ma"
      },
      "source": [
        "***Training Error Graph***"
      ]
    },
    {
      "cell_type": "code",
      "metadata": {
        "colab": {
          "base_uri": "https://localhost:8080/",
          "height": 317
        },
        "id": "GA4bKJcar1Sq",
        "outputId": "5432e226-95d3-4879-9828-98862a7d20ad"
      },
      "source": [
        "print(errors_train)\n",
        "\n",
        "plt.plot([0,1,2,3,4,5,6,7,8,9],errors_train)\n",
        "plt.xlabel(\"M\")\n",
        "plt.ylabel(\"ERROR\")\n",
        "plt.show()"
      ],
      "execution_count": null,
      "outputs": [
        {
          "output_type": "stream",
          "name": "stdout",
          "text": [
            "[1.7749370367472766e-30, 2.1612978428908e-28, 0.04632961440848815, 0.03452200943194949, 0.031833001072717665, 2.1612978428908e-28, 2.1612978428908e-28, 2.1612978428908e-28, 2.1612978428908e-28, 0.02828748957616853]\n"
          ]
        },
        {
          "output_type": "display_data",
          "data": {
            "image/png": "[encoded data removed]",
            "text/plain": [
              "<Figure size 432x288 with 1 Axes>"
            ]
          },
          "metadata": {
            "needs_background": "light"
          }
        }
      ]
    },
    {
      "cell_type": "markdown",
      "metadata": {
        "id": "T0inKuFD7JzD"
      },
      "source": [
        "***GENERATING 100 DATA POINTS***"
      ]
    },
    {
      "cell_type": "code",
      "metadata": {
        "id": "nJiYnNGOrboD"
      },
      "source": [
        "x_hundred,y_hundred = genXY(100)"
      ],
      "execution_count": null,
      "outputs": []
    },
    {
      "cell_type": "markdown",
      "metadata": {
        "id": "gRRTKyqn9QdF"
      },
      "source": [
        " ***TRAINING WITH ORDER 9"
      ]
    },
    {
      "cell_type": "code",
      "metadata": {
        "id": "Mwm3vfmm7gY5"
      },
      "source": [
        "my_poly_regressor_hundred = my_poly_reg(x_hundred,y_hundred,order=9,epochs=iterations)"
      ],
      "execution_count": null,
      "outputs": []
    },
    {
      "cell_type": "code",
      "metadata": {
        "colab": {
          "base_uri": "https://localhost:8080/"
        },
        "id": "eVXRehet7_4U",
        "outputId": "cb82273f-a689-42fd-ccdd-11c42d4c7b61"
      },
      "source": [
        "weights_hundred,min_error = my_poly_regressor_hundred.fit()"
      ],
      "execution_count": null,
      "outputs": [
        {
          "output_type": "stream",
          "name": "stdout",
          "text": [
            "Initial Weights: [0.35518735 0.79885163 0.54627714 0.64417985 0.41102781 0.61118341\n",
            " 0.71336767 0.20277979 0.65570625 0.86383783]\n",
            "Least error: 0.05149641659671247\n",
            "Final weights: [ 0.7367424   0.70716415 -2.75080934 -1.75220538 -0.58458491  0.52806503\n",
            "  1.02395049  0.55127564  0.83645957  0.77381312]\n"
          ]
        }
      ]
    },
    {
      "cell_type": "markdown",
      "metadata": {
        "id": "4oTTVLUs9Wb3"
      },
      "source": [
        "***GENERATING PREDICTED VALUES OF Y***"
      ]
    },
    {
      "cell_type": "code",
      "metadata": {
        "id": "BoaSPbKp8g-J"
      },
      "source": [
        "y_ninth_order_hundred =[]\n",
        "for i in range(len(x_hundred)):\n",
        "  y_ninth_order_hundred.append(my_poly_regressor_hundred.get_predicted_y(x=x_hundred[i]))"
      ],
      "execution_count": null,
      "outputs": []
    },
    {
      "cell_type": "markdown",
      "metadata": {
        "id": "YlDtztii9aog"
      },
      "source": [
        "***GRAPH FOR REAL AND PREDICTED VALUES***"
      ]
    },
    {
      "cell_type": "code",
      "metadata": {
        "colab": {
          "base_uri": "https://localhost:8080/",
          "height": 316
        },
        "id": "w4qbuFdO8iQ7",
        "outputId": "80c4065e-130f-4459-a057-9ed0722ac5e8"
      },
      "source": [
        "\n",
        "plt.scatter(x_hundred,y_ninth_order_hundred,label=\"Predicted Values\")\n",
        "plt.scatter(x_hundred,y_hundred,label = \"Real Values\")\n",
        "plt.legend(loc='upper center', bbox_to_anchor=(0.5, -0.05),\n",
        "          fancybox=True, shadow=True, ncol=5)\n",
        "plt.title(\"M=9\")\n",
        "plt.xlabel(\"X\")\n",
        "plt.ylabel(\"t\")\n",
        "plt.plot()"
      ],
      "execution_count": null,
      "outputs": [
        {
          "output_type": "execute_result",
          "data": {
            "text/plain": [
              "[]"
            ]
          },
          "metadata": {},
          "execution_count": 1078
        },
        {
          "output_type": "display_data",
          "data": {
            "image/png": "[encoded data removed]",
            "text/plain": [
              "<Figure size 432x288 with 1 Axes>"
            ]
          },
          "metadata": {
            "needs_background": "light"
          }
        }
      ]
    }
  ]
}